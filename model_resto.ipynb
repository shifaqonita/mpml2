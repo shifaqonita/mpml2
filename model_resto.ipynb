{
 "cells": [
  {
   "cell_type": "code",
   "execution_count": 4,
   "metadata": {},
   "outputs": [
    {
     "name": "stderr",
     "output_type": "stream",
     "text": [
      "C:\\Users\\HP\\AppData\\Local\\Temp\\ipykernel_51800\\3784624787.py:13: SettingWithCopyWarning: \n",
      "A value is trying to be set on a copy of a slice from a DataFrame.\n",
      "Try using .loc[row_indexer,col_indexer] = value instead\n",
      "\n",
      "See the caveats in the documentation: https://pandas.pydata.org/pandas-docs/stable/user_guide/indexing.html#returning-a-view-versus-a-copy\n",
      "  df['Price'] = df['Price'].astype(str)\n",
      "C:\\Users\\HP\\AppData\\Local\\Temp\\ipykernel_51800\\3784624787.py:16: SettingWithCopyWarning: \n",
      "A value is trying to be set on a copy of a slice from a DataFrame.\n",
      "Try using .loc[row_indexer,col_indexer] = value instead\n",
      "\n",
      "See the caveats in the documentation: https://pandas.pydata.org/pandas-docs/stable/user_guide/indexing.html#returning-a-view-versus-a-copy\n",
      "  df['Price'] = df['Price'].str.replace(',', '.').astype(float)\n",
      "C:\\Users\\HP\\AppData\\Local\\Temp\\ipykernel_51800\\3784624787.py:29: SettingWithCopyWarning: \n",
      "A value is trying to be set on a copy of a slice from a DataFrame.\n",
      "Try using .loc[row_indexer,col_indexer] = value instead\n",
      "\n",
      "See the caveats in the documentation: https://pandas.pydata.org/pandas-docs/stable/user_guide/indexing.html#returning-a-view-versus-a-copy\n",
      "  df['Profitability'] = df['Profitability'].apply(encode_Profitability)\n",
      "C:\\Users\\HP\\AppData\\Local\\Temp\\ipykernel_51800\\3784624787.py:36: SettingWithCopyWarning: \n",
      "A value is trying to be set on a copy of a slice from a DataFrame.\n",
      "Try using .loc[row_indexer,col_indexer] = value instead\n",
      "\n",
      "See the caveats in the documentation: https://pandas.pydata.org/pandas-docs/stable/user_guide/indexing.html#returning-a-view-versus-a-copy\n",
      "  df[col] = label_encoders[col].fit_transform(df[col])\n",
      "C:\\Users\\HP\\AppData\\Local\\Temp\\ipykernel_51800\\3784624787.py:36: SettingWithCopyWarning: \n",
      "A value is trying to be set on a copy of a slice from a DataFrame.\n",
      "Try using .loc[row_indexer,col_indexer] = value instead\n",
      "\n",
      "See the caveats in the documentation: https://pandas.pydata.org/pandas-docs/stable/user_guide/indexing.html#returning-a-view-versus-a-copy\n",
      "  df[col] = label_encoders[col].fit_transform(df[col])\n",
      "C:\\Users\\HP\\AppData\\Local\\Temp\\ipykernel_51800\\3784624787.py:36: SettingWithCopyWarning: \n",
      "A value is trying to be set on a copy of a slice from a DataFrame.\n",
      "Try using .loc[row_indexer,col_indexer] = value instead\n",
      "\n",
      "See the caveats in the documentation: https://pandas.pydata.org/pandas-docs/stable/user_guide/indexing.html#returning-a-view-versus-a-copy\n",
      "  df[col] = label_encoders[col].fit_transform(df[col])\n"
     ]
    }
   ],
   "source": [
    "import pandas as pd\n",
    "from sklearn.preprocessing import LabelEncoder\n",
    "\n",
    "# Read the data\n",
    "data = pd.read_csv('restaurant_menu_optimization_data.csv')\n",
    "\n",
    "# Select necessary columns\n",
    "df = data[['RestaurantID', 'MenuCategory', 'MenuItem', 'Price', 'Profitability']]\n",
    "\n",
    "# Ensure 'Price' is of string type and then convert to float\n",
    "df['Price'] = df['Price'].astype(str).str.replace(',', '.').astype(float)\n",
    "\n",
    "# Encode 'Profitability' to numeric values\n",
    "def encode_Profitability(Profitability):\n",
    "    if Profitability == 'Low':\n",
    "        return 0\n",
    "    elif Profitability == 'Medium':\n",
    "        return 1\n",
    "    elif Profitability == 'High':\n",
    "        return 2\n",
    "    else:\n",
    "        return None\n",
    "\n",
    "df['Profitability'] = df['Profitability'].apply(encode_Profitability)\n",
    "\n",
    "# Encode categorical variables\n",
    "categorical_cols = ['RestaurantID', 'MenuCategory', 'MenuItem']\n",
    "label_encoders = {col: LabelEncoder() for col in categorical_cols}\n",
    "\n",
    "for col in categorical_cols:\n",
    "    df[col] = label_encoders[col].fit_transform(df[col])\n",
    "\n",
    "# Split the data into features and target\n",
    "X = df.drop(columns=['Profitability'])\n",
    "y = df['Profitability']\n",
    "\n",
    "from sklearn.model_selection import train_test_split\n",
    "from sklearn.neighbors import KNeighborsClassifier\n",
    "\n",
    "# Split the data into training and testing sets\n",
    "X_train, X_test, y_train, y_test = train_test_split(X, y, test_size=0.2, random_state=42)\n",
    "\n",
    "# Train the KNN model\n",
    "model_knn = KNeighborsClassifier()\n",
    "model_knn.fit(X_train, y_train)\n",
    "\n",
    "# Save the model\n",
    "import pickle\n",
    "\n",
    "filename = 'resto_model.sav'\n",
    "pickle.dump(model_knn, open(filename, 'wb'))"
   ]
  },
  {
   "cell_type": "code",
   "execution_count": 5,
   "metadata": {},
   "outputs": [
    {
     "name": "stdout",
     "output_type": "stream",
     "text": [
      "<class 'pandas.core.frame.DataFrame'>\n",
      "RangeIndex: 1000 entries, 0 to 999\n",
      "Data columns (total 5 columns):\n",
      " #   Column         Non-Null Count  Dtype  \n",
      "---  ------         --------------  -----  \n",
      " 0   RestaurantID   1000 non-null   int32  \n",
      " 1   MenuCategory   1000 non-null   int32  \n",
      " 2   MenuItem       1000 non-null   int32  \n",
      " 3   Price          1000 non-null   float64\n",
      " 4   Profitability  1000 non-null   int64  \n",
      "dtypes: float64(1), int32(3), int64(1)\n",
      "memory usage: 27.5 KB\n"
     ]
    }
   ],
   "source": [
    "df.info()"
   ]
  }
 ],
 "metadata": {
  "kernelspec": {
   "display_name": "dateng",
   "language": "python",
   "name": "python3"
  },
  "language_info": {
   "codemirror_mode": {
    "name": "ipython",
    "version": 3
   },
   "file_extension": ".py",
   "mimetype": "text/x-python",
   "name": "python",
   "nbconvert_exporter": "python",
   "pygments_lexer": "ipython3",
   "version": "3.12.3"
  }
 },
 "nbformat": 4,
 "nbformat_minor": 2
}
